{
 "cells": [
  {
   "cell_type": "code",
   "execution_count": null,
   "id": "aef6f923-0cc7-49d7-bc21-e7b553bf7c9c",
   "metadata": {},
   "outputs": [],
   "source": [
    "#Data Wrangling II\n",
    "#Create an “Academic performance” dataset of students and perform the following operations using\n",
    "\n",
    "#1. Scan all variables for missing values and inconsistencies. If there are missing values and/or\n",
    "#inconsistencies, use any of the suitable techniques to deal with them.\n",
    "#2. Scan all numeric variables for outliers. If there are outliers, use any of the suitable\n",
    "#techniques to deal with them.\n",
    "#3. Apply data transformations on at least one of the variables. The purpose of this\n",
    "#transformation should be one of the following reasons: to change the scale for better\n",
    "#understanding of the variable, to convert a non-linear relation into a linear one, or to\n",
    "#decrease the skewness and convert the distribution into a normal distribution"
   ]
  },
  {
   "cell_type": "code",
   "execution_count": 1,
   "id": "18311616-e73b-4274-83d7-c881b75dd2fc",
   "metadata": {},
   "outputs": [],
   "source": [
    "import pandas as pd"
   ]
  },
  {
   "cell_type": "code",
   "execution_count": 2,
   "id": "adb54b5c-dd3f-47c0-bd1d-c86e41f9165a",
   "metadata": {},
   "outputs": [],
   "source": [
    "import numpy as np"
   ]
  },
  {
   "cell_type": "code",
   "execution_count": 3,
   "id": "0e747dac-9424-4a59-a43c-363aaa51315a",
   "metadata": {},
   "outputs": [],
   "source": [
    "data={\n",
    "    \"Name\":['Tabasum','sangeeta','ayesha','zikra'],\n",
    "    \"Age\":[-22,18,19,np.nan],\n",
    "    \"Branch\":['IT','CS','IT','CS'],\n",
    "    \"college-id\":[23121,23122,23144,124234],\n",
    "    \"Grade\":['A','B','A+','O']\n",
    "}"
   ]
  },
  {
   "cell_type": "code",
   "execution_count": 4,
   "id": "74a20096-fec3-4e6c-ad69-a164549c3a65",
   "metadata": {},
   "outputs": [],
   "source": [
    "df=pd.DataFrame(data)"
   ]
  },
  {
   "cell_type": "code",
   "execution_count": 5,
   "id": "58790bae-4811-4249-b542-4873e7072734",
   "metadata": {},
   "outputs": [
    {
     "data": {
      "text/html": [
       "<div>\n",
       "<style scoped>\n",
       "    .dataframe tbody tr th:only-of-type {\n",
       "        vertical-align: middle;\n",
       "    }\n",
       "\n",
       "    .dataframe tbody tr th {\n",
       "        vertical-align: top;\n",
       "    }\n",
       "\n",
       "    .dataframe thead th {\n",
       "        text-align: right;\n",
       "    }\n",
       "</style>\n",
       "<table border=\"1\" class=\"dataframe\">\n",
       "  <thead>\n",
       "    <tr style=\"text-align: right;\">\n",
       "      <th></th>\n",
       "      <th>Name</th>\n",
       "      <th>Age</th>\n",
       "      <th>Branch</th>\n",
       "      <th>college-id</th>\n",
       "      <th>Grade</th>\n",
       "    </tr>\n",
       "  </thead>\n",
       "  <tbody>\n",
       "    <tr>\n",
       "      <th>0</th>\n",
       "      <td>Tabasum</td>\n",
       "      <td>-22.0</td>\n",
       "      <td>IT</td>\n",
       "      <td>23121</td>\n",
       "      <td>A</td>\n",
       "    </tr>\n",
       "    <tr>\n",
       "      <th>1</th>\n",
       "      <td>sangeeta</td>\n",
       "      <td>18.0</td>\n",
       "      <td>CS</td>\n",
       "      <td>23122</td>\n",
       "      <td>B</td>\n",
       "    </tr>\n",
       "    <tr>\n",
       "      <th>2</th>\n",
       "      <td>ayesha</td>\n",
       "      <td>19.0</td>\n",
       "      <td>IT</td>\n",
       "      <td>23144</td>\n",
       "      <td>A+</td>\n",
       "    </tr>\n",
       "    <tr>\n",
       "      <th>3</th>\n",
       "      <td>zikra</td>\n",
       "      <td>NaN</td>\n",
       "      <td>CS</td>\n",
       "      <td>124234</td>\n",
       "      <td>O</td>\n",
       "    </tr>\n",
       "  </tbody>\n",
       "</table>\n",
       "</div>"
      ],
      "text/plain": [
       "       Name   Age Branch  college-id Grade\n",
       "0   Tabasum -22.0     IT       23121     A\n",
       "1  sangeeta  18.0     CS       23122     B\n",
       "2    ayesha  19.0     IT       23144    A+\n",
       "3     zikra   NaN     CS      124234     O"
      ]
     },
     "execution_count": 5,
     "metadata": {},
     "output_type": "execute_result"
    }
   ],
   "source": [
    "df"
   ]
  },
  {
   "cell_type": "code",
   "execution_count": 6,
   "id": "76427f63-a609-417a-ae35-3082829e8a76",
   "metadata": {},
   "outputs": [
    {
     "data": {
      "text/html": [
       "<div>\n",
       "<style scoped>\n",
       "    .dataframe tbody tr th:only-of-type {\n",
       "        vertical-align: middle;\n",
       "    }\n",
       "\n",
       "    .dataframe tbody tr th {\n",
       "        vertical-align: top;\n",
       "    }\n",
       "\n",
       "    .dataframe thead th {\n",
       "        text-align: right;\n",
       "    }\n",
       "</style>\n",
       "<table border=\"1\" class=\"dataframe\">\n",
       "  <thead>\n",
       "    <tr style=\"text-align: right;\">\n",
       "      <th></th>\n",
       "      <th>Name</th>\n",
       "      <th>Age</th>\n",
       "      <th>Branch</th>\n",
       "      <th>college-id</th>\n",
       "      <th>Grade</th>\n",
       "    </tr>\n",
       "  </thead>\n",
       "  <tbody>\n",
       "    <tr>\n",
       "      <th>0</th>\n",
       "      <td>False</td>\n",
       "      <td>False</td>\n",
       "      <td>False</td>\n",
       "      <td>False</td>\n",
       "      <td>False</td>\n",
       "    </tr>\n",
       "    <tr>\n",
       "      <th>1</th>\n",
       "      <td>False</td>\n",
       "      <td>False</td>\n",
       "      <td>False</td>\n",
       "      <td>False</td>\n",
       "      <td>False</td>\n",
       "    </tr>\n",
       "    <tr>\n",
       "      <th>2</th>\n",
       "      <td>False</td>\n",
       "      <td>False</td>\n",
       "      <td>False</td>\n",
       "      <td>False</td>\n",
       "      <td>False</td>\n",
       "    </tr>\n",
       "    <tr>\n",
       "      <th>3</th>\n",
       "      <td>False</td>\n",
       "      <td>True</td>\n",
       "      <td>False</td>\n",
       "      <td>False</td>\n",
       "      <td>False</td>\n",
       "    </tr>\n",
       "  </tbody>\n",
       "</table>\n",
       "</div>"
      ],
      "text/plain": [
       "    Name    Age  Branch  college-id  Grade\n",
       "0  False  False   False       False  False\n",
       "1  False  False   False       False  False\n",
       "2  False  False   False       False  False\n",
       "3  False   True   False       False  False"
      ]
     },
     "execution_count": 6,
     "metadata": {},
     "output_type": "execute_result"
    }
   ],
   "source": [
    "df.isnull()"
   ]
  },
  {
   "cell_type": "code",
   "execution_count": 7,
   "id": "d5d2a03a-37c3-4b65-b5d5-185463cff619",
   "metadata": {},
   "outputs": [],
   "source": [
    "df.to_csv('Tabu.csv' , index=False)"
   ]
  },
  {
   "cell_type": "code",
   "execution_count": 8,
   "id": "8793226e-45a1-43c5-8690-ecd0bcbddc7b",
   "metadata": {},
   "outputs": [],
   "source": [
    "df=pd.read_csv(\"Tabu.csv\")"
   ]
  },
  {
   "cell_type": "code",
   "execution_count": 9,
   "id": "ad03df03-b1de-4ce1-b949-636d4a0d24cd",
   "metadata": {},
   "outputs": [
    {
     "data": {
      "text/html": [
       "<div>\n",
       "<style scoped>\n",
       "    .dataframe tbody tr th:only-of-type {\n",
       "        vertical-align: middle;\n",
       "    }\n",
       "\n",
       "    .dataframe tbody tr th {\n",
       "        vertical-align: top;\n",
       "    }\n",
       "\n",
       "    .dataframe thead th {\n",
       "        text-align: right;\n",
       "    }\n",
       "</style>\n",
       "<table border=\"1\" class=\"dataframe\">\n",
       "  <thead>\n",
       "    <tr style=\"text-align: right;\">\n",
       "      <th></th>\n",
       "      <th>Name</th>\n",
       "      <th>Age</th>\n",
       "      <th>Branch</th>\n",
       "      <th>college-id</th>\n",
       "      <th>Grade</th>\n",
       "    </tr>\n",
       "  </thead>\n",
       "  <tbody>\n",
       "    <tr>\n",
       "      <th>0</th>\n",
       "      <td>Tabasum</td>\n",
       "      <td>-22.0</td>\n",
       "      <td>IT</td>\n",
       "      <td>23121</td>\n",
       "      <td>A</td>\n",
       "    </tr>\n",
       "    <tr>\n",
       "      <th>1</th>\n",
       "      <td>sangeeta</td>\n",
       "      <td>18.0</td>\n",
       "      <td>CS</td>\n",
       "      <td>23122</td>\n",
       "      <td>B</td>\n",
       "    </tr>\n",
       "    <tr>\n",
       "      <th>2</th>\n",
       "      <td>ayesha</td>\n",
       "      <td>19.0</td>\n",
       "      <td>IT</td>\n",
       "      <td>23144</td>\n",
       "      <td>A+</td>\n",
       "    </tr>\n",
       "    <tr>\n",
       "      <th>3</th>\n",
       "      <td>zikra</td>\n",
       "      <td>NaN</td>\n",
       "      <td>CS</td>\n",
       "      <td>124234</td>\n",
       "      <td>O</td>\n",
       "    </tr>\n",
       "  </tbody>\n",
       "</table>\n",
       "</div>"
      ],
      "text/plain": [
       "       Name   Age Branch  college-id Grade\n",
       "0   Tabasum -22.0     IT       23121     A\n",
       "1  sangeeta  18.0     CS       23122     B\n",
       "2    ayesha  19.0     IT       23144    A+\n",
       "3     zikra   NaN     CS      124234     O"
      ]
     },
     "execution_count": 9,
     "metadata": {},
     "output_type": "execute_result"
    }
   ],
   "source": [
    "df"
   ]
  },
  {
   "cell_type": "code",
   "execution_count": 10,
   "id": "341f4024-b2b9-481c-a75c-7b6cafd90e16",
   "metadata": {},
   "outputs": [],
   "source": [
    "df['Adress']=['Pune','Mumbai','Nanded','Nasik']"
   ]
  },
  {
   "cell_type": "code",
   "execution_count": 11,
   "id": "3b309ac9-3472-4ed4-8841-362ef6bbb344",
   "metadata": {},
   "outputs": [
    {
     "data": {
      "text/html": [
       "<div>\n",
       "<style scoped>\n",
       "    .dataframe tbody tr th:only-of-type {\n",
       "        vertical-align: middle;\n",
       "    }\n",
       "\n",
       "    .dataframe tbody tr th {\n",
       "        vertical-align: top;\n",
       "    }\n",
       "\n",
       "    .dataframe thead th {\n",
       "        text-align: right;\n",
       "    }\n",
       "</style>\n",
       "<table border=\"1\" class=\"dataframe\">\n",
       "  <thead>\n",
       "    <tr style=\"text-align: right;\">\n",
       "      <th></th>\n",
       "      <th>Name</th>\n",
       "      <th>Age</th>\n",
       "      <th>Branch</th>\n",
       "      <th>college-id</th>\n",
       "      <th>Grade</th>\n",
       "      <th>Adress</th>\n",
       "    </tr>\n",
       "  </thead>\n",
       "  <tbody>\n",
       "    <tr>\n",
       "      <th>0</th>\n",
       "      <td>Tabasum</td>\n",
       "      <td>-22.0</td>\n",
       "      <td>IT</td>\n",
       "      <td>23121</td>\n",
       "      <td>A</td>\n",
       "      <td>Pune</td>\n",
       "    </tr>\n",
       "    <tr>\n",
       "      <th>1</th>\n",
       "      <td>sangeeta</td>\n",
       "      <td>18.0</td>\n",
       "      <td>CS</td>\n",
       "      <td>23122</td>\n",
       "      <td>B</td>\n",
       "      <td>Mumbai</td>\n",
       "    </tr>\n",
       "    <tr>\n",
       "      <th>2</th>\n",
       "      <td>ayesha</td>\n",
       "      <td>19.0</td>\n",
       "      <td>IT</td>\n",
       "      <td>23144</td>\n",
       "      <td>A+</td>\n",
       "      <td>Nanded</td>\n",
       "    </tr>\n",
       "    <tr>\n",
       "      <th>3</th>\n",
       "      <td>zikra</td>\n",
       "      <td>NaN</td>\n",
       "      <td>CS</td>\n",
       "      <td>124234</td>\n",
       "      <td>O</td>\n",
       "      <td>Nasik</td>\n",
       "    </tr>\n",
       "  </tbody>\n",
       "</table>\n",
       "</div>"
      ],
      "text/plain": [
       "       Name   Age Branch  college-id Grade  Adress\n",
       "0   Tabasum -22.0     IT       23121     A    Pune\n",
       "1  sangeeta  18.0     CS       23122     B  Mumbai\n",
       "2    ayesha  19.0     IT       23144    A+  Nanded\n",
       "3     zikra   NaN     CS      124234     O   Nasik"
      ]
     },
     "execution_count": 11,
     "metadata": {},
     "output_type": "execute_result"
    }
   ],
   "source": [
    "df.head()\n"
   ]
  },
  {
   "cell_type": "code",
   "execution_count": 13,
   "id": "8fade46c-4732-4d83-83f2-e8d72b518426",
   "metadata": {},
   "outputs": [
    {
     "name": "stderr",
     "output_type": "stream",
     "text": [
      "C:\\Users\\hp\\AppData\\Local\\Temp\\ipykernel_5896\\3997705861.py:1: FutureWarning: A value is trying to be set on a copy of a DataFrame or Series through chained assignment using an inplace method.\n",
      "The behavior will change in pandas 3.0. This inplace method will never work because the intermediate object on which we are setting values always behaves as a copy.\n",
      "\n",
      "For example, when doing 'df[col].method(value, inplace=True)', try using 'df.method({col: value}, inplace=True)' or df[col] = df[col].method(value) instead, to perform the operation inplace on the original object.\n",
      "\n",
      "\n",
      "  df['Age'].fillna(22,inplace=True)\n"
     ]
    }
   ],
   "source": [
    "df['Age'].fillna(22,inplace=True)"
   ]
  },
  {
   "cell_type": "code",
   "execution_count": 14,
   "id": "220a8ff4-c261-4721-b88f-8cfba12e10f1",
   "metadata": {},
   "outputs": [
    {
     "data": {
      "text/html": [
       "<div>\n",
       "<style scoped>\n",
       "    .dataframe tbody tr th:only-of-type {\n",
       "        vertical-align: middle;\n",
       "    }\n",
       "\n",
       "    .dataframe tbody tr th {\n",
       "        vertical-align: top;\n",
       "    }\n",
       "\n",
       "    .dataframe thead th {\n",
       "        text-align: right;\n",
       "    }\n",
       "</style>\n",
       "<table border=\"1\" class=\"dataframe\">\n",
       "  <thead>\n",
       "    <tr style=\"text-align: right;\">\n",
       "      <th></th>\n",
       "      <th>Name</th>\n",
       "      <th>Age</th>\n",
       "      <th>Branch</th>\n",
       "      <th>college-id</th>\n",
       "      <th>Grade</th>\n",
       "      <th>Adress</th>\n",
       "    </tr>\n",
       "  </thead>\n",
       "  <tbody>\n",
       "    <tr>\n",
       "      <th>0</th>\n",
       "      <td>Tabasum</td>\n",
       "      <td>-22.0</td>\n",
       "      <td>IT</td>\n",
       "      <td>23121</td>\n",
       "      <td>A</td>\n",
       "      <td>Pune</td>\n",
       "    </tr>\n",
       "    <tr>\n",
       "      <th>1</th>\n",
       "      <td>sangeeta</td>\n",
       "      <td>18.0</td>\n",
       "      <td>CS</td>\n",
       "      <td>23122</td>\n",
       "      <td>B</td>\n",
       "      <td>Mumbai</td>\n",
       "    </tr>\n",
       "    <tr>\n",
       "      <th>2</th>\n",
       "      <td>ayesha</td>\n",
       "      <td>19.0</td>\n",
       "      <td>IT</td>\n",
       "      <td>23144</td>\n",
       "      <td>A+</td>\n",
       "      <td>Nanded</td>\n",
       "    </tr>\n",
       "    <tr>\n",
       "      <th>3</th>\n",
       "      <td>zikra</td>\n",
       "      <td>22.0</td>\n",
       "      <td>CS</td>\n",
       "      <td>124234</td>\n",
       "      <td>O</td>\n",
       "      <td>Nasik</td>\n",
       "    </tr>\n",
       "  </tbody>\n",
       "</table>\n",
       "</div>"
      ],
      "text/plain": [
       "       Name   Age Branch  college-id Grade  Adress\n",
       "0   Tabasum -22.0     IT       23121     A    Pune\n",
       "1  sangeeta  18.0     CS       23122     B  Mumbai\n",
       "2    ayesha  19.0     IT       23144    A+  Nanded\n",
       "3     zikra  22.0     CS      124234     O   Nasik"
      ]
     },
     "execution_count": 14,
     "metadata": {},
     "output_type": "execute_result"
    }
   ],
   "source": [
    "df"
   ]
  },
  {
   "cell_type": "code",
   "execution_count": 15,
   "id": "e214d20d-ec6f-41a4-ac6f-d7dad9b8a770",
   "metadata": {},
   "outputs": [
    {
     "data": {
      "text/html": [
       "<div>\n",
       "<style scoped>\n",
       "    .dataframe tbody tr th:only-of-type {\n",
       "        vertical-align: middle;\n",
       "    }\n",
       "\n",
       "    .dataframe tbody tr th {\n",
       "        vertical-align: top;\n",
       "    }\n",
       "\n",
       "    .dataframe thead th {\n",
       "        text-align: right;\n",
       "    }\n",
       "</style>\n",
       "<table border=\"1\" class=\"dataframe\">\n",
       "  <thead>\n",
       "    <tr style=\"text-align: right;\">\n",
       "      <th></th>\n",
       "      <th>Name</th>\n",
       "      <th>Age</th>\n",
       "      <th>Branch</th>\n",
       "      <th>college-id</th>\n",
       "      <th>Grade</th>\n",
       "      <th>Adress</th>\n",
       "    </tr>\n",
       "  </thead>\n",
       "  <tbody>\n",
       "    <tr>\n",
       "      <th>0</th>\n",
       "      <td>False</td>\n",
       "      <td>False</td>\n",
       "      <td>False</td>\n",
       "      <td>False</td>\n",
       "      <td>False</td>\n",
       "      <td>False</td>\n",
       "    </tr>\n",
       "    <tr>\n",
       "      <th>1</th>\n",
       "      <td>False</td>\n",
       "      <td>False</td>\n",
       "      <td>False</td>\n",
       "      <td>False</td>\n",
       "      <td>False</td>\n",
       "      <td>False</td>\n",
       "    </tr>\n",
       "    <tr>\n",
       "      <th>2</th>\n",
       "      <td>False</td>\n",
       "      <td>False</td>\n",
       "      <td>False</td>\n",
       "      <td>False</td>\n",
       "      <td>False</td>\n",
       "      <td>False</td>\n",
       "    </tr>\n",
       "    <tr>\n",
       "      <th>3</th>\n",
       "      <td>False</td>\n",
       "      <td>False</td>\n",
       "      <td>False</td>\n",
       "      <td>False</td>\n",
       "      <td>False</td>\n",
       "      <td>False</td>\n",
       "    </tr>\n",
       "  </tbody>\n",
       "</table>\n",
       "</div>"
      ],
      "text/plain": [
       "    Name    Age  Branch  college-id  Grade  Adress\n",
       "0  False  False   False       False  False   False\n",
       "1  False  False   False       False  False   False\n",
       "2  False  False   False       False  False   False\n",
       "3  False  False   False       False  False   False"
      ]
     },
     "execution_count": 15,
     "metadata": {},
     "output_type": "execute_result"
    }
   ],
   "source": [
    "df.isnull()"
   ]
  },
  {
   "cell_type": "code",
   "execution_count": 16,
   "id": "f6099e42-81af-4117-af77-18e609870cb8",
   "metadata": {},
   "outputs": [],
   "source": [
    "mean_age=df['Age'].mean()"
   ]
  },
  {
   "cell_type": "code",
   "execution_count": 17,
   "id": "aba0503e-fd5a-453d-ad22-809b71946cd7",
   "metadata": {},
   "outputs": [],
   "source": [
    "df['Age']=df['Age'].apply(lambda x:mean_age if x<0 else x)"
   ]
  },
  {
   "cell_type": "code",
   "execution_count": 18,
   "id": "0725d410-93ac-4849-9b71-e7d434304649",
   "metadata": {},
   "outputs": [
    {
     "name": "stdout",
     "output_type": "stream",
     "text": [
      "       Name    Age Branch  college-id Grade  Adress\n",
      "0   Tabasum   9.25     IT       23121     A    Pune\n",
      "1  sangeeta  18.00     CS       23122     B  Mumbai\n",
      "2    ayesha  19.00     IT       23144    A+  Nanded\n",
      "3     zikra  22.00     CS      124234     O   Nasik\n"
     ]
    }
   ],
   "source": [
    "print(df)"
   ]
  },
  {
   "cell_type": "code",
   "execution_count": 19,
   "id": "59835e1c-46cf-4eae-85c2-f7d85ae3240f",
   "metadata": {},
   "outputs": [],
   "source": [
    "A=df['Age']"
   ]
  },
  {
   "cell_type": "code",
   "execution_count": 20,
   "id": "d7bfbb9c-89f6-4552-a8aa-0199b5d8e216",
   "metadata": {},
   "outputs": [],
   "source": [
    "Q1=np.percentile(A,25)"
   ]
  },
  {
   "cell_type": "code",
   "execution_count": 21,
   "id": "81cca0ef-31fb-4a31-b5ef-8f71ac9c5f8f",
   "metadata": {},
   "outputs": [],
   "source": [
    "Q3=np.percentile(A,75)"
   ]
  },
  {
   "cell_type": "code",
   "execution_count": 22,
   "id": "fab27138-6836-410f-8db5-242aba50819c",
   "metadata": {},
   "outputs": [],
   "source": [
    "IQR=Q3-Q1"
   ]
  },
  {
   "cell_type": "code",
   "execution_count": 23,
   "id": "0ba7c3f4-ed87-4026-b104-b89c73217fdb",
   "metadata": {},
   "outputs": [],
   "source": [
    "L_B=Q1-1.5*IQR\n",
    "U_B=Q3+1.5*IQR"
   ]
  },
  {
   "cell_type": "code",
   "execution_count": 24,
   "id": "f2595247-81f2-44fd-b35b-b6348c8b3759",
   "metadata": {},
   "outputs": [
    {
     "name": "stdout",
     "output_type": "stream",
     "text": [
      "Lower Bound:9.90625\n",
      "Upper Bound:25.65625\n"
     ]
    }
   ],
   "source": [
    "print(f\"Lower Bound:{L_B}\")\n",
    "print(f\"Upper Bound:{U_B}\")"
   ]
  },
  {
   "cell_type": "code",
   "execution_count": 25,
   "id": "15032b1d-903e-4cc5-a0f4-4e732f0a16ad",
   "metadata": {},
   "outputs": [
    {
     "name": "stdout",
     "output_type": "stream",
     "text": [
      "Outliers in the 'Age' column:\n",
      "      Name   Age Branch  college-id Grade Adress\n",
      "0  Tabasum  9.25     IT       23121     A   Pune\n"
     ]
    }
   ],
   "source": [
    "outliers = df[(df['Age']<L_B)|(df['Age']>U_B)]\n",
    "print(\"Outliers in the 'Age' column:\")\n",
    "print(outliers)"
   ]
  },
  {
   "cell_type": "code",
   "execution_count": 26,
   "id": "acef668d-abb3-4f37-a984-8b14ff608e2d",
   "metadata": {},
   "outputs": [
    {
     "name": "stdout",
     "output_type": "stream",
     "text": [
      "\n",
      " Updated Data(Outliers Replaced With Mean):\n"
     ]
    }
   ],
   "source": [
    "mean_age=df['Age'].mean()\n",
    "df['Age']=df['Age'].apply(lambda x:mean_age if x< L_B or x>U_B else x)\n",
    "print(\"\\n Updated Data(Outliers Replaced With Mean):\")"
   ]
  },
  {
   "cell_type": "code",
   "execution_count": 28,
   "id": "a5b28210-e337-458d-97eb-268ebbdbf25a",
   "metadata": {},
   "outputs": [
    {
     "name": "stdout",
     "output_type": "stream",
     "text": [
      "       Name      Age Branch  college-id Grade  Adress\n",
      "0   Tabasum  17.0625     IT       23121     A    Pune\n",
      "1  sangeeta  18.0000     CS       23122     B  Mumbai\n",
      "2    ayesha  19.0000     IT       23144    A+  Nanded\n",
      "3     zikra  22.0000     CS      124234     O   Nasik\n"
     ]
    }
   ],
   "source": [
    "print(df)"
   ]
  },
  {
   "cell_type": "code",
   "execution_count": 29,
   "id": "ea5fd3f4-230d-4f3e-8398-cadc5627a63d",
   "metadata": {},
   "outputs": [],
   "source": [
    "import seaborn as sns"
   ]
  },
  {
   "cell_type": "code",
   "execution_count": 30,
   "id": "8eee858c-8e54-462e-a4e5-f914eca9be84",
   "metadata": {},
   "outputs": [],
   "source": [
    "import matplotlib.pyplot as plt"
   ]
  },
  {
   "cell_type": "code",
   "execution_count": 31,
   "id": "664b2085-b535-49d0-b301-81cb105a4204",
   "metadata": {},
   "outputs": [
    {
     "data": {
      "image/png": "[encoded data removed]",
      "text/plain": [
       "<Figure size 640x480 with 1 Axes>"
      ]
     },
     "metadata": {},
     "output_type": "display_data"
    }
   ],
   "source": [
    "sns.boxplot(x=df['Age'])\n",
    "plt.title(\"Boxplot for age\")\n",
    "plt.show()"
   ]
  },
  {
   "cell_type": "code",
   "execution_count": 32,
   "id": "635ad2c2-55d7-459a-883a-fd68a2b122c7",
   "metadata": {},
   "outputs": [],
   "source": [
    "from sklearn.preprocessing import MinMaxScaler \n"
   ]
  },
  {
   "cell_type": "code",
   "execution_count": 37,
   "id": "3d767a07-8088-4ee4-ae83-eb5a853ded70",
   "metadata": {},
   "outputs": [],
   "source": [
    "scaler=MinMaxScaler()"
   ]
  },
  {
   "cell_type": "code",
   "execution_count": 38,
   "id": "07ef9014-8936-4fab-8172-0e78e878fd14",
   "metadata": {},
   "outputs": [
    {
     "name": "stdout",
     "output_type": "stream",
     "text": [
      "0    0.000000\n",
      "1    0.189873\n",
      "2    0.392405\n",
      "3    1.000000\n",
      "Name: ScaleAge, dtype: float64\n"
     ]
    }
   ],
   "source": [
    "df['ScaleAge']=scaler.fit_transform(df[['Age']])\n",
    "print(df['ScaleAge'])"
   ]
  },
  {
   "cell_type": "code",
   "execution_count": 39,
   "id": "90d7a498-4d49-4286-bf49-87b3cb8b8bd5",
   "metadata": {},
   "outputs": [
    {
     "data": {
      "text/plain": [
       "<Axes: xlabel='ScaleAge', ylabel='Count'>"
      ]
     },
     "execution_count": 39,
     "metadata": {},
     "output_type": "execute_result"
    },
    {
     "data": {
      "image/png": "[encoded data removed]",
      "text/plain": [
       "<Figure size 640x480 with 1 Axes>"
      ]
     },
     "metadata": {},
     "output_type": "display_data"
    }
   ],
   "source": [
    "sns.histplot(df['ScaleAge'],bins=5,kde=False, color='Skyblue')"
   ]
  },
  {
   "cell_type": "code",
   "execution_count": 40,
   "id": "38335491-db93-4513-955a-e678628d5426",
   "metadata": {},
   "outputs": [],
   "source": [
    "from sklearn.preprocessing import PowerTransformer"
   ]
  },
  {
   "cell_type": "code",
   "execution_count": 41,
   "id": "3576f999-5847-4f81-8ffa-2ede9943e343",
   "metadata": {},
   "outputs": [],
   "source": [
    "Skewed_data = PowerTransformer()"
   ]
  },
  {
   "cell_type": "code",
   "execution_count": 42,
   "id": "9d85668d-184c-45ef-88a5-890b84f8c610",
   "metadata": {},
   "outputs": [],
   "source": [
    "df['Age']=Skewed_data.fit_transform(df[['Age']])"
   ]
  },
  {
   "cell_type": "code",
   "execution_count": 43,
   "id": "aa436f29-5397-4ea9-9071-bf53f0f38a3e",
   "metadata": {},
   "outputs": [
    {
     "data": {
      "text/plain": [
       "0   -1.290948\n",
       "1   -0.419385\n",
       "2    0.265697\n",
       "3    1.444636\n",
       "Name: Age, dtype: float64"
      ]
     },
     "execution_count": 43,
     "metadata": {},
     "output_type": "execute_result"
    }
   ],
   "source": [
    "df['Age']"
   ]
  },
  {
   "cell_type": "code",
   "execution_count": 48,
   "id": "3c18e470-7d70-4a09-afb4-18c87d3d0590",
   "metadata": {},
   "outputs": [
    {
     "data": {
      "text/plain": [
       "<Axes: xlabel='Age', ylabel='Count'>"
      ]
     },
     "execution_count": 48,
     "metadata": {},
     "output_type": "execute_result"
    },
    {
     "data": {
      "image/png": "[encoded data removed]",
      "text/plain": [
       "<Figure size 640x480 with 1 Axes>"
      ]
     },
     "metadata": {},
     "output_type": "display_data"
    }
   ],
   "source": [
    "sns.histplot(df['Age'], bins=4,kde=False, color='lightgreen')"
   ]
  },
  {
   "cell_type": "code",
   "execution_count": null,
   "id": "696901c3-22f6-467f-8735-5b89264d2d00",
   "metadata": {},
   "outputs": [],
   "source": [
    "##Handle Missing Values:\n",
    "#🔍 Used to clean incomplete data by checking isnull() — missing values can affect model accuracy.\n",
    "#✅ Fix them with fillna() (e.g., mean, median) or dropna() to remove rows/columns.\n",
    "\n",
    "#Remove Outliers:\n",
    "#📊 Outliers are extreme values that can distort your analysis or model results.\n",
    "#✅ Detect with boxplots or IQR method, and handle by removing or capping (limiting their impact).\n",
    "\n",
    "#Apply Transformations:\n",
    "#🔄 Transformations help to normalize skewed data or linearize relationships for better modeling.\n",
    "#✅ Use methods like log(), sqrt(), or standard scaling to make the data more suitable for analysis.\n",
    "\n"
   ]
  }
 ],
 "metadata": {
  "kernelspec": {
   "display_name": "Python 3 (ipykernel)",
   "language": "python",
   "name": "python3"
  },
  "language_info": {
   "codemirror_mode": {
    "name": "ipython",
    "version": 3
   },
   "file_extension": ".py",
   "mimetype": "text/x-python",
   "name": "python",
   "nbconvert_exporter": "python",
   "pygments_lexer": "ipython3",
   "version": "3.12.7"
  }
 },
 "nbformat": 4,
 "nbformat_minor": 5
}
