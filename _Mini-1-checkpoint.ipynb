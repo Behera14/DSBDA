{
 "cells": [
  {
   "cell_type": "code",
   "execution_count": 1,
   "id": "31d9642e-d724-4de4-ac2a-e36807e7e74e",
   "metadata": {},
   "outputs": [
    {
     "name": "stdout",
     "output_type": "stream",
     "text": [
      "Requirement already satisfied: numpy in c:\\users\\sangeeta behera\\anaconda3\\lib\\site-packages (1.26.4)\n",
      "Requirement already satisfied: pandas in c:\\users\\sangeeta behera\\anaconda3\\lib\\site-packages (2.2.2)\n",
      "Requirement already satisfied: scikit-learn in c:\\users\\sangeeta behera\\anaconda3\\lib\\site-packages (1.5.1)\n",
      "Requirement already satisfied: python-dateutil>=2.8.2 in c:\\users\\sangeeta behera\\anaconda3\\lib\\site-packages (from pandas) (2.9.0.post0)\n",
      "Requirement already satisfied: pytz>=2020.1 in c:\\users\\sangeeta behera\\anaconda3\\lib\\site-packages (from pandas) (2024.1)\n",
      "Requirement already satisfied: tzdata>=2022.7 in c:\\users\\sangeeta behera\\anaconda3\\lib\\site-packages (from pandas) (2023.3)\n",
      "Requirement already satisfied: scipy>=1.6.0 in c:\\users\\sangeeta behera\\anaconda3\\lib\\site-packages (from scikit-learn) (1.13.1)\n",
      "Requirement already satisfied: joblib>=1.2.0 in c:\\users\\sangeeta behera\\anaconda3\\lib\\site-packages (from scikit-learn) (1.4.2)\n",
      "Requirement already satisfied: threadpoolctl>=3.1.0 in c:\\users\\sangeeta behera\\anaconda3\\lib\\site-packages (from scikit-learn) (3.5.0)\n",
      "Requirement already satisfied: six>=1.5 in c:\\users\\sangeeta behera\\anaconda3\\lib\\site-packages (from python-dateutil>=2.8.2->pandas) (1.16.0)\n",
      "Note: you may need to restart the kernel to use updated packages.\n"
     ]
    }
   ],
   "source": [
    " pip install numpy pandas scikit-learn"
   ]
  },
  {
   "cell_type": "code",
   "execution_count": 3,
   "id": "85051ddb-4f94-456c-995b-f5fc6de73097",
   "metadata": {},
   "outputs": [
    {
     "name": "stdout",
     "output_type": "stream",
     "text": [
      "                                      title  \\\n",
      "0                                    Avatar   \n",
      "1  Pirates of the Caribbean: At World's End   \n",
      "2                                   Spectre   \n",
      "3                     The Dark Knight Rises   \n",
      "4                               John Carter   \n",
      "\n",
      "                                   combined_features  \n",
      "0  culture clash future space war space colony so...  \n",
      "1  ocean drug abuse exotic island east india trad...  \n",
      "2  spy based on novel secret agent sequel mi6 Dan...  \n",
      "3  dc comics crime fighter terrorist secret ident...  \n",
      "4  based on novel mars medallion space travel pri...  \n"
     ]
    }
   ],
   "source": [
    "import pandas as pd\n",
    "\n",
    "# Load the dataset (fixed the broken URL)\n",
    "url = 'https://raw.githubusercontent.com/rashida048/Some-NLP-Projects/master/movie_dataset.csv'\n",
    "df = pd.read_csv(url)\n",
    "\n",
    "# Select relevant features for the recommendation\n",
    "features = ['keywords', 'cast', 'genres', 'director']\n",
    "\n",
    "# Fill missing values with empty strings\n",
    "for feature in features:\n",
    "    df[feature] = df[feature].fillna('')\n",
    "\n",
    "# Combine the features into a single string\n",
    "def combine_features(row):\n",
    "    return row['keywords'] + \" \" + row['cast'] + \" \" + row['genres'] + \" \" + row['director']\n",
    "\n",
    "df['combined_features'] = df.apply(combine_features, axis=1)\n",
    "\n",
    "# Show the first few rows with combined features\n",
    "print(df[['title', 'combined_features']].head())\n"
   ]
  },
  {
   "cell_type": "code",
   "execution_count": 4,
   "id": "267787de-5393-4214-8417-ea1db6858bc9",
   "metadata": {},
   "outputs": [],
   "source": [
    " from sklearn.feature_extraction.text import CountVectorizer\n",
    " from sklearn.metrics.pairwise import cosine_similarity\n",
    " # Initialize CountVectorizer to convert text to numerical vectors\n",
    " cv = CountVectorizer(stop_words='english')\n",
    " # Transform the combined features into a count matrix\n",
    " count_matrix = cv.fit_transform(df['combined_features'])\n",
    " # Calculate the cosine similarity between the movies\n",
    " cosine_sim = cosine_similarity(count_matrix, count_matrix)"
   ]
  },
  {
   "cell_type": "code",
   "execution_count": 8,
   "id": "b0be629c-f27d-41ab-b692-15f2d7d966b1",
   "metadata": {},
   "outputs": [],
   "source": [
    "#Function to get the title of a movie based on index\n",
    "def get_title_from_index(index):\n",
    " return df.iloc[index]['title']\n",
    " #Function to get the index of a movie based on its title\n",
    "def get_index_from_title(title):\n",
    " return df[df['title'] == title].index.values[0]"
   ]
  },
  {
   "cell_type": "code",
   "execution_count": 9,
   "id": "a77edbe6-259f-4f89-8030-4444402b573d",
   "metadata": {},
   "outputs": [],
   "source": [
    "def get_movie_recommendations(movie_user_likes):\n",
    "    # Check if the movie exists in the dataset\n",
    "    if movie_user_likes not in df['title'].values:\n",
    "        print(f\"Sorry, the movie '{movie_user_likes}' was not found in the dataset. Please try another title.\")\n",
    "        return\n",
    "\n",
    "    # Get the index of the movie that the user likes\n",
    "    movie_index = get_index_from_title(movie_user_likes)\n",
    "\n",
    "    # Get the cosine similarity scores for that movie\n",
    "    similar_movies = list(enumerate(cosine_sim[movie_index]))\n",
    "\n",
    "    # Sort the movies based on similarity scores (descending order)\n",
    "    sorted_similar_movies = sorted(similar_movies, key=lambda x: x[1], reverse=True)\n",
    "\n",
    "    # Print the top 5 similar movies\n",
    "    print(f\"\\nTop 5 similar movies to '{movie_user_likes}' are:\")\n",
    "    for i, (index, score) in enumerate(sorted_similar_movies[1:6]):  # Skip the first (it's the same movie)\n",
    "        print(f\"{i+1}. {get_title_from_index(index)} (Similarity Score: {score:.2f})\")\n"
   ]
  },
  {
   "cell_type": "code",
   "execution_count": 10,
   "id": "d9b30ea6-ca67-41f6-89e1-6d99327a2182",
   "metadata": {},
   "outputs": [
    {
     "name": "stdout",
     "output_type": "stream",
     "text": [
      "\n",
      "Some movie titles in the dataset are:\n",
      "0                                      Avatar\n",
      "1    Pirates of the Caribbean: At World's End\n",
      "2                                     Spectre\n",
      "3                       The Dark Knight Rises\n",
      "4                                 John Carter\n",
      "5                                Spider-Man 3\n",
      "6                                     Tangled\n",
      "7                     Avengers: Age of Ultron\n",
      "8      Harry Potter and the Half-Blood Prince\n",
      "9          Batman v Superman: Dawn of Justice\n",
      "Name: title, dtype: object\n"
     ]
    },
    {
     "name": "stdin",
     "output_type": "stream",
     "text": [
      "\n",
      "Enter a movie title from the above list:  Avatar\n"
     ]
    },
    {
     "name": "stdout",
     "output_type": "stream",
     "text": [
      "\n",
      "Top 5 similar movies to 'Avatar' are:\n",
      "1. Guardians of the Galaxy (Similarity Score: 0.42)\n",
      "2. Aliens (Similarity Score: 0.38)\n",
      "3. Star Wars: Clone Wars: Volume 1 (Similarity Score: 0.35)\n",
      "4. Star Trek Into Darkness (Similarity Score: 0.34)\n",
      "5. Star Trek Beyond (Similarity Score: 0.34)\n"
     ]
    }
   ],
   "source": [
    "# Display some movie titles from the dataset to guide the user\n",
    "print(\"\\nSome movie titles in the dataset are:\")\n",
    "print(df['title'].head(10))  # Show the first 10 movie titles as examples\n",
    "\n",
    "# Get movie recommendations based on user input\n",
    "movie_user_likes = input(\"\\nEnter a movie title from the above list: \")\n",
    "get_movie_recommendations(movie_user_likes)\n"
   ]
  },
  {
   "cell_type": "code",
   "execution_count": null,
   "id": "47f249f4-2001-43cc-b43d-11f2098c36f8",
   "metadata": {},
   "outputs": [],
   "source": [
    "#📌 Goal:\n",
    "#Recommend similar movies based on content (genres, cast, director, keywords).\n",
    "\n",
    "#🧹 Steps:\n",
    "#Load Data: Use pandas to read the movie dataset (CSV).\n",
    "\n",
    "#Preprocess: Fill missing values and combine features like keywords, cast, genres, and director into one text string per movie.\n",
    "\n",
    "#Vectorize Text: Use CountVectorizer to convert the combined text into a numeric matrix (Bag-of-Words).\n",
    "\n",
    "#Compute Similarity: Use cosine_similarity to find how similar two movies are based on their vectors.\n",
    "\n",
    "#Recommend: For a given movie, find and return the most similar ones by sorting similarity scores.\n",
    "\n",
    "#✅ Type:\n",
    "#This is a content-based filtering system using movie attributes, not user data."
   ]
  }
 ],
 "metadata": {
  "kernelspec": {
   "display_name": "Python 3 (ipykernel)",
   "language": "python",
   "name": "python3"
  },
  "language_info": {
   "codemirror_mode": {
    "name": "ipython",
    "version": 3
   },
   "file_extension": ".py",
   "mimetype": "text/x-python",
   "name": "python",
   "nbconvert_exporter": "python",
   "pygments_lexer": "ipython3",
   "version": "3.12.7"
  }
 },
 "nbformat": 4,
 "nbformat_minor": 5
}
